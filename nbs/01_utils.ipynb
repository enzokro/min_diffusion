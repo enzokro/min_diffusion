{
 "cells": [
  {
   "cell_type": "markdown",
   "metadata": {},
   "source": [
    "# Utility functions for diffusion"
   ]
  },
  {
   "cell_type": "code",
   "execution_count": null,
   "metadata": {},
   "outputs": [],
   "source": [
    "#| default_exp utils"
   ]
  },
  {
   "cell_type": "code",
   "execution_count": null,
   "metadata": {},
   "outputs": [],
   "source": [
    "#| export\n",
    "import torch\n",
    "from PIL import Image\n",
    "import matplotlib.pyplot as plt\n",
    "from textwrap import wrap\n",
    "from typing import List"
   ]
  },
  {
   "cell_type": "code",
   "execution_count": null,
   "metadata": {},
   "outputs": [],
   "source": [
    "#| export\n",
    "\n",
    "\n",
    "    \n",
    "def show_image(image, scale=0.5, plot=True):\n",
    "    \"Displays the given `image` resized based on `scale`.\"\n",
    "    img = image.resize(((int)(image.width * scale), (int)(image.height * scale)))\n",
    "    if plot:\n",
    "        plt.figure()\n",
    "        plt.imshow(img)\n",
    "    #display(img)\n",
    "    return img\n",
    "\n",
    "\n",
    "def image_grid(images, rows = 1, width=256, height=256, title=None):\n",
    "    \"Display an array of images in a grid with the given number of `rows`\"\n",
    "    count = len(images)\n",
    "    cols = int(count / rows)\n",
    "    if cols * rows < count:\n",
    "        rows += 1\n",
    "    # Calculate fig size based on individual image sizes    \n",
    "    px = 1/plt.rcParams['figure.dpi']\n",
    "    w = cols * width * px\n",
    "    # Add some extra space for the caption/title since that can wrap\n",
    "    h = (rows * height * px) + (rows * 30 * px)\n",
    "    fig, axes = plt.subplots(rows, cols, figsize=(w, h))\n",
    "    for y in range(rows):\n",
    "        for x in range(cols):\n",
    "            index = y*cols + x\n",
    "            ref = axes[x] if rows == 1 else axes[y] if cols == 1 else axes[y, x]\n",
    "            ref.axis('off')\n",
    "            if index > count - 1:\n",
    "                continue\n",
    "            img = images[index]\n",
    "            txt = f'Frame: {index}'\n",
    "            if title is not None:\n",
    "                if isinstance(title, str):\n",
    "                    txt = f'{title}: {index}'\n",
    "                elif isinstance(title, List):\n",
    "                    txt = title[index]\n",
    "            # small change for bigger, more visible titles\n",
    "            txt = '\\n'.join(wrap(txt, width=70))\n",
    "            ref.set_title(txt, fontsize='x-large')\n",
    "            ref.imshow(img)\n",
    "            ref.axis('off')\n",
    "            \n",
    "\n",
    "def plot_schedules(scheds, rows = 1, width=256, height=256, titles=None):\n",
    "    \"Display an array of images in a nice grid, or single row\"\n",
    "    count = len(scheds)\n",
    "    cols = int(count / rows)\n",
    "    if cols * rows < count:\n",
    "        rows += 1\n",
    "    # Calculate fig size based on individual image sizes    \n",
    "    px = 1/plt.rcParams['figure.dpi']\n",
    "    w = cols * width * px\n",
    "    # Add some extra space for the caption/title since that can wrap\n",
    "    h = (rows * height * px) + (rows * 30 * px)\n",
    "    fig, axes = plt.subplots(rows, cols, figsize=(w, h))\n",
    "    for y in range(rows):\n",
    "        for x in range(cols):\n",
    "            index = y*cols + x\n",
    "            ref = axes[x] if rows == 1 else axes[y] if cols == 1 else axes[y, x]\n",
    "            if index > count - 1:\n",
    "                ref.axis('off')\n",
    "                continue\n",
    "            sched = scheds[index]\n",
    "            txt = f'Frame: {index}'\n",
    "            if titles is not None:\n",
    "                if isinstance(titles, str):\n",
    "                    txt = f'{titles}: {index}'\n",
    "                elif isinstance(titles, List) or isinstance(titles, L):\n",
    "                    txt = titles[index]\n",
    "            # small change for bigger, more visible titles\n",
    "            txt = '\\n'.join(wrap(txt, width=30))\n",
    "            ref.set_title(txt, fontsize='x-large')\n",
    "            ref.plot(sched)\n",
    "            #ref.axis('off')\n",
    "            ref.set_xlabel('Diffusion Timesteps')\n",
    "            ref.set_ylabel('Guidance Parameter')\n",
    "    fig.tight_layout()"
   ]
  },
  {
   "cell_type": "code",
   "execution_count": null,
   "metadata": {},
   "outputs": [],
   "source": [
    "#| hide\n",
    "import nbdev; nbdev.nbdev_export()"
   ]
  }
 ],
 "metadata": {
  "kernelspec": {
   "display_name": "Python 3 (ipykernel)",
   "language": "python",
   "name": "python3"
  }
 },
 "nbformat": 4,
 "nbformat_minor": 4
}
